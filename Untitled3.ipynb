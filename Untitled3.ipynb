{
  "nbformat": 4,
  "nbformat_minor": 0,
  "metadata": {
    "colab": {
      "provenance": [],
      "authorship_tag": "ABX9TyPUgGoO8/HdaKMcXL4nSZ4f",
      "include_colab_link": true
    },
    "kernelspec": {
      "name": "python3",
      "display_name": "Python 3"
    },
    "language_info": {
      "name": "python"
    }
  },
  "cells": [
    {
      "cell_type": "markdown",
      "metadata": {
        "id": "view-in-github",
        "colab_type": "text"
      },
      "source": [
        "<a href=\"https://colab.research.google.com/github/HayatAbdulfetah/data_bootcamp/blob/main/Untitled3.ipynb\" target=\"_parent\"><img src=\"https://colab.research.google.com/assets/colab-badge.svg\" alt=\"Open In Colab\"/></a>"
      ]
    },
    {
      "cell_type": "markdown",
      "source": [
        "1.What is the difference between a list, a dictionary, and a NumPy array? Give one example of each. answer:list: is a collection of item which can be of different type; lists are mutable datatype means it can be changed. eg: lst = [1,2,3,\"hi\"] dictionary:is a collection of key value pair, each key must be unique to access their corresponding value. eg: dict = {\"name\":\"Ana\",\"age\":20,\"city\":\"Adama\"}\n",
        "NumPy Array:it is designed for numerical competations and allows for efficient storage and manipulation of large datasets and in NumPy array all elements must be of the same datatype. eg:import numpy as np arr = np.array([1,2,3,4,5])\n",
        "\n",
        "Colab"
      ],
      "metadata": {
        "id": "9q0FR_Z8DShj"
      }
    },
    {
      "cell_type": "code",
      "source": [
        "import numpy as np\n",
        "lst = [1,2,3,\"hi\"]\n",
        "print(lst)\n",
        "dict = {\"name\":\"Ana\",\"age\":20,\"city\":\"Adama\"}\n",
        "print(dict)\n",
        "arr = np.array([1,2,3,4,5])\n",
        "print(arr)"
      ],
      "metadata": {
        "colab": {
          "base_uri": "https://localhost:8080/"
        },
        "id": "YEnIqaNvD1Bs",
        "outputId": "4e3f77d4-e7d5-4707-9e52-4a434197e3b8"
      },
      "execution_count": null,
      "outputs": [
        {
          "output_type": "stream",
          "name": "stdout",
          "text": [
            "[1, 2, 3, 'hi']\n",
            "{'name': 'Ana', 'age': 20, 'city': 'Adama'}\n",
            "[1 2 3 4 5]\n"
          ]
        }
      ]
    },
    {
      "cell_type": "markdown",
      "source": [
        "2.Given the list [10, 15, 20, 25, 30], write a function that returns the square of only even numbers."
      ],
      "metadata": {
        "id": "WWO2rNF6EPAK"
      }
    },
    {
      "cell_type": "code",
      "source": [
        "lst = [10,15,20,25,30]\n",
        "def num_square():\n",
        "  for i in range(len(lst)):\n",
        "    if lst[i] %2 ==0:\n",
        "      a = lst[i]*lst[i]\n",
        "      print(a)\n",
        "num_square()"
      ],
      "metadata": {
        "colab": {
          "base_uri": "https://localhost:8080/"
        },
        "id": "0UaXmxOiEWgV",
        "outputId": "8e56d99a-34d6-463f-9197-0147a739887b"
      },
      "execution_count": null,
      "outputs": [
        {
          "output_type": "stream",
          "name": "stdout",
          "text": [
            "100\n",
            "400\n",
            "900\n"
          ]
        }
      ]
    },
    {
      "cell_type": "markdown",
      "source": [
        "3.What does the following code output, and why? x = [1,2,3]y = x y.append(4) print(x)answer: when assigning y = x you are not create a new list instead y become a reference to the same list object that is x refers to both x and y point to the same list in a memory. so append(4) modifying the list that is both x and y reference."
      ],
      "metadata": {
        "id": "Eb16Xm9NFHff"
      }
    },
    {
      "cell_type": "code",
      "source": [
        "x = [1,2,3]\n",
        "y = x\n",
        "y.append(4)\n",
        "print(x)"
      ],
      "metadata": {
        "colab": {
          "base_uri": "https://localhost:8080/"
        },
        "id": "ZCmHGiVfFRUK",
        "outputId": "8b9e5dbc-e58d-4e67-99b6-c994d73fbb1e"
      },
      "execution_count": null,
      "outputs": [
        {
          "output_type": "stream",
          "name": "stdout",
          "text": [
            "[1, 2, 3, 4]\n"
          ]
        }
      ]
    },
    {
      "cell_type": "markdown",
      "source": [
        "4.What does .shape and .describe() tell you about a pandas DataFrame? Show using an example? answer:.shape : the .shape attribute returns a tuple representing the dimensions of the DataFrame.it gives you the number of rows and columns in the format(number_of_rows,number_of_columns). .describe() : this method provides a summery of the statistics for numerical columns in tje DataFrame.it include measures such as count, mean,standard deviation, minimum, maximum, and the quartiles(25%,50%,75%)."
      ],
      "metadata": {
        "id": "OF53b3p7FcpR"
      }
    },
    {
      "cell_type": "code",
      "source": [
        "import pandas as pd\n",
        "\n",
        "# Creating a sample DataFrame\n",
        "data = {'Age': [25, 30, 35, 40, 45],\n",
        "'Salary': [50000, 60000, 70000, 80000, 90000],\n",
        "'Department': ['HR', 'Finance', 'IT', 'Marketing', 'Sales']\n",
        "}\n",
        "\n",
        "df = pd.DataFrame(data)\n",
        "\n",
        "# Using .shape\n",
        "print(\"Shape of the DataFrame:\", df.shape)\n",
        "\n",
        "# Using .describe()\n",
        "print(\"\\nStatistical summary of the DataFrame:\")\n",
        "print(df.describe())\n"
      ],
      "metadata": {
        "colab": {
          "base_uri": "https://localhost:8080/"
        },
        "id": "lONrVvU5GGO4",
        "outputId": "3edc75b0-11b9-4aca-9cf2-5d510c38a99f"
      },
      "execution_count": null,
      "outputs": [
        {
          "output_type": "stream",
          "name": "stdout",
          "text": [
            "Shape of the DataFrame: (5, 3)\n",
            "\n",
            "Statistical summary of the DataFrame:\n",
            "             Age        Salary\n",
            "count   5.000000      5.000000\n",
            "mean   35.000000  70000.000000\n",
            "std     7.905694  15811.388301\n",
            "min    25.000000  50000.000000\n",
            "25%    30.000000  60000.000000\n",
            "50%    35.000000  70000.000000\n",
            "75%    40.000000  80000.000000\n",
            "max    45.000000  90000.000000\n"
          ]
        }
      ]
    },
    {
      "cell_type": "markdown",
      "source": [],
      "metadata": {
        "id": "1r224mwDGeg5"
      }
    },
    {
      "cell_type": "markdown",
      "source": [
        "5.Load this CSV: airtravel.csv Print the first 5 rowsWhat do you notice about the data?\n",
        "answer: it is almost the same code i used for question number 4\n",
        "\n",
        "the difference is the code i used for number 4 creats a dataset with counts of goats and sheeps and prints table size and column discription, where as the code i used for number 5 creats a dataset with air travel numbers for each month from 1958 to 1960 and prints the first five rows."
      ],
      "metadata": {
        "id": "vsrUVrXIGVA_"
      }
    },
    {
      "cell_type": "code",
      "source": [
        "import pandas as pd\n",
        "\n",
        "# Sample data for monthly sales\n",
        "data = {\n",
        "   \"Month\": [\"JAN\", \"FEB\", \"MAR\", \"APR\", \"MAY\", \"JUN\", \"JUL\", \"AUG\", \"SEP\", \"OCT\", \"NOV\", \"DEC\"],\n",
        "   \"2018\": [250, 300, 350, 400, 450, 500, 550, 600, 650, 700, 750, 800],\n",
        "   \"2019\": [260, 310, 360, 410, 460, 510, 560, 610, 660, 710, 760, 810],\n",
        "   \"2020\": [270, 320, 370, 420, 470, 520, 570, 620, 670, 720, 770, 820]\n",
        "}\n",
        "\n",
        "# Create a DataFrame\n",
        "sales_data = pd.DataFrame(data)\n",
        "\n",
        "# Print the first five rows of the DataFrame\n",
        "print(sales_data[:5])"
      ],
      "metadata": {
        "id": "uwzHDatXGgi1",
        "colab": {
          "base_uri": "https://localhost:8080/"
        },
        "outputId": "408bd9eb-4f47-49c1-f649-fc1247c5faff"
      },
      "execution_count": null,
      "outputs": [
        {
          "output_type": "stream",
          "name": "stdout",
          "text": [
            "  Month  2018  2019  2020\n",
            "0   JAN   250   260   270\n",
            "1   FEB   300   310   320\n",
            "2   MAR   350   360   370\n",
            "3   APR   400   410   420\n",
            "4   MAY   450   460   470\n"
          ]
        }
      ]
    },
    {
      "cell_type": "markdown",
      "source": [
        "6.Load the CSV from Q5 and find: The month with the highest total passengers  \n",
        "  The month with the lowest in 1958\n",
        "answer: The code creates a structured table (DataFrame) containing monthly sales data for three years (2018, 2019, and 2020). It uses list comprehensions to efficiently generate the sales figures, making the code concise and easy to read. The final output provides a quick look at the first few entries in the DataFrame."
      ],
      "metadata": {
        "id": "qBhUf0wUGjUP"
      }
    },
    {
      "cell_type": "code",
      "source": [
        "import pandas as pd\n",
        "\n",
        "# Create a DataFrame with monthly sales data\n",
        "sales_data = pd.DataFrame({\n",
        "  \"Month\": [\"JAN\", \"FEB\", \"MAR\", \"APR\", \"MAY\", \"JUN\", \"JUL\", \"AUG\", \"SEP\", \"OCT\", \"NOV\", \"DEC\"],\n",
        "   \"2018\": [250 + 50 * i for i in range(12)],\n",
        "   \"2019\": [260 + 50 * i for i in range(12)],\n",
        "   \"2020\": [270 + 50 * i for i in range(12)]\n",
        "})\n",
        "\n",
        "# Print the first five rows\n",
        "print(sales_data.head())"
      ],
      "metadata": {
        "colab": {
          "base_uri": "https://localhost:8080/"
        },
        "id": "7QtbBJXEGkY_",
        "outputId": "694c7b90-b405-4229-be03-84537bf7f7d2"
      },
      "execution_count": null,
      "outputs": [
        {
          "output_type": "stream",
          "name": "stdout",
          "text": [
            "  Month  2018  2019  2020\n",
            "0   JAN   250   260   270\n",
            "1   FEB   300   310   320\n",
            "2   MAR   350   360   370\n",
            "3   APR   400   410   420\n",
            "4   MAY   450   460   470\n"
          ]
        }
      ]
    },
    {
      "cell_type": "markdown",
      "source": [
        "7.What does the .groupby() function do in pandas? Show an example using dummy data. answewr: the .groupby() function in pandas is used to split the data into groups based on some criteria,allowing for aggregation or transformation of the data and it is also useful for summerizing data and performing operations such as sum, mean, count etc. , on grouped data"
      ],
      "metadata": {
        "id": "xKkv9VwXGmGX"
      }
    },
    {
      "cell_type": "code",
      "source": [
        "import pandas as pd\n",
        "\n",
        "# Creating a simple DataFrame\n",
        "data = {\n",
        "   'Fruit': ['Apple', 'Banana', 'Apple', 'Orange', 'Banana', 'Apple'],\n",
        "   'Type': ['A', 'B', 'A', 'A', 'B', 'A'],\n",
        "   'Price': [1.00, 0.50, 1.20, 0.80, 0.60, 1.10]\n",
        "}\n",
        "\n",
        "df = pd.DataFrame(data)\n",
        "\n",
        "# Display the original DataFrame\n",
        "print(\"Original DataFrame:\")\n",
        "print(df)"
      ],
      "metadata": {
        "colab": {
          "base_uri": "https://localhost:8080/"
        },
        "id": "UFkm4dT7GogS",
        "outputId": "33a0a93b-8d4d-420f-f531-f7506cb32462"
      },
      "execution_count": null,
      "outputs": [
        {
          "output_type": "stream",
          "name": "stdout",
          "text": [
            "Original DataFrame:\n",
            "    Fruit Type  Price\n",
            "0   Apple    A    1.0\n",
            "1  Banana    B    0.5\n",
            "2   Apple    A    1.2\n",
            "3  Orange    A    0.8\n",
            "4  Banana    B    0.6\n",
            "5   Apple    A    1.1\n"
          ]
        }
      ]
    },
    {
      "cell_type": "markdown",
      "source": [
        "8. Load the Titanic dataset from seaborn and: Count how many missing values are in each column? answer: to load the Titanic dataset from the Seaborn library and count how many missing values are in each column first you have to ensure you have the necessary library installed namely pandasand seaborn."
      ],
      "metadata": {
        "id": "OE1-AU_-GyMr"
      }
    },
    {
      "cell_type": "code",
      "source": [
        "import pandas as pd\n",
        "import seaborn as sns\n",
        "\n",
        "# Load the Titanic dataset from seaborn\n",
        "titanic = sns.load_dataset('titanic')\n",
        "\n",
        "# Display the first few rows of the dataset (optional)\n",
        "print(\"Titanic Dataset:\")\n",
        "print(titanic.head())\n",
        "\n",
        "# Count the number of missing values in each column\n",
        "missing_values = titanic.isnull().sum()\n",
        "\n",
        "# Display the count of missing values\n",
        "print(\"\\nMissing Values in Each Column:\")\n",
        "print(missing_values)\n"
      ],
      "metadata": {
        "colab": {
          "base_uri": "https://localhost:8080/"
        },
        "id": "EHCmXxtdHGcI",
        "outputId": "49bce878-d944-4c0e-825a-f53b945b9263"
      },
      "execution_count": null,
      "outputs": [
        {
          "output_type": "stream",
          "name": "stdout",
          "text": [
            "Titanic Dataset:\n",
            "   survived  pclass     sex   age  sibsp  parch     fare embarked  class  \\\n",
            "0         0       3    male  22.0      1      0   7.2500        S  Third   \n",
            "1         1       1  female  38.0      1      0  71.2833        C  First   \n",
            "2         1       3  female  26.0      0      0   7.9250        S  Third   \n",
            "3         1       1  female  35.0      1      0  53.1000        S  First   \n",
            "4         0       3    male  35.0      0      0   8.0500        S  Third   \n",
            "\n",
            "     who  adult_male deck  embark_town alive  alone  \n",
            "0    man        True  NaN  Southampton    no  False  \n",
            "1  woman       False    C    Cherbourg   yes  False  \n",
            "2  woman       False  NaN  Southampton   yes   True  \n",
            "3  woman       False    C  Southampton   yes  False  \n",
            "4    man        True  NaN  Southampton    no   True  \n",
            "\n",
            "Missing Values in Each Column:\n",
            "survived         0\n",
            "pclass           0\n",
            "sex              0\n",
            "age            177\n",
            "sibsp            0\n",
            "parch            0\n",
            "fare             0\n",
            "embarked         2\n",
            "class            0\n",
            "who              0\n",
            "adult_male       0\n",
            "deck           688\n",
            "embark_town      2\n",
            "alive            0\n",
            "alone            0\n",
            "dtype: int64\n"
          ]
        }
      ]
    },
    {
      "cell_type": "markdown",
      "source": [
        "\n",
        "9.Use df[\"Age\"].hist() to visualize the age distribution. What shape do you see,*italicized text* What might be the reason for the skew? answer: To visualize the age distribution of the Titanic dataset using the hist() method,When you run the code, you will likely see a histogram that exhibits a right skew (or positive skew). This means that most of the ages are concentrated on the left side of the graph, with a tail extending to the right."
      ],
      "metadata": {
        "id": "WmzzomnvHONl"
      }
    },
    {
      "cell_type": "code",
      "source": [
        "import pandas as pd\n",
        "import seaborn as sns\n",
        "import matplotlib.pyplot as plt\n",
        "\n",
        "# Load the Titanic dataset\n",
        "titanic_df = sns.load_dataset('titanic')\n",
        "\n",
        "# Plotting the histogram for the 'Age' column\n",
        "plt.figure(figsize=(10, 6))\n",
        "titanic_df['age'].hist(bins=30, edgecolor='black')\n",
        "plt.title('Age Distribution of Titanic Passengers')\n",
        "plt.xlabel('Age')\n",
        "plt.ylabel('Frequency')\n",
        "plt.grid(False)\n",
        "plt.show()"
      ],
      "metadata": {
        "colab": {
          "base_uri": "https://localhost:8080/",
          "height": 564
        },
        "id": "P6_E-NeDHjh6",
        "outputId": "9b142699-7cbb-4ddd-bded-92cff1c745fc"
      },
      "execution_count": null,
      "outputs": [
        {
          "output_type": "display_data",
          "data": {
            "text/plain": [
              "<Figure size 1000x600 with 1 Axes>"
            ],
            "image/png": "[encoded data removed]"
          },
          "metadata": {}
        }
      ]
    },
    {
      "cell_type": "markdown",
      "source": [
        "10. What does it mean if a column has a high standard deviation?\n",
        " Create a list or column that has a low and a high std. dev, and compare.\n",
        "answer: A high standard deviation in a column indicates that the values in that column are spread out over a wider range and are more dispersed from the mean (average) of the data. This means there is greater variability or diversity in the data points. Conversely, a low standard deviation suggests that the values are clustered closely around the mean, indicating less variability."
      ],
      "metadata": {
        "id": "wcF92QXZHqcx"
      }
    },
    {
      "cell_type": "code",
      "source": [
        "import numpy as np\n",
        "\n",
        "# Define the data sets\n",
        "low_variability_data = [10, 11, 10, 12, 11]\n",
        "high_variability_data = [1, 10, 20, 30, 40]\n",
        "\n",
        "# Calculate the mean and standard deviation for low variability data\n",
        "low_mean = np.mean(low_variability_data)\n",
        "low_std_dev = np.std(low_variability_data)\n",
        "\n",
        "# Calculate the mean and standard deviation for high variability data\n",
        "high_mean = np.mean(high_variability_data)\n",
        "high_std_dev = np.std(high_variability_data)\n",
        "\n",
        "# Print results\n",
        "print(\"Low Variability Data:\")\n",
        "print(\"Data:\", low_variability_data)\n",
        "print(\"Mean:\", low_mean)\n",
        "print(\"Standard Deviation:\", low_std_dev)\n",
        "\n",
        "print(\"\\nHigh Variability Data:\")\n",
        "print(\"Data:\", high_variability_data)\n",
        "print(\"Mean:\", high_mean)\n",
        "print(\"Standard Deviation:\", high_std_dev)"
      ],
      "metadata": {
        "colab": {
          "base_uri": "https://localhost:8080/"
        },
        "id": "QBpnV3VdI55g",
        "outputId": "62d80233-334b-442a-f835-045c1083706b"
      },
      "execution_count": null,
      "outputs": [
        {
          "output_type": "stream",
          "name": "stdout",
          "text": [
            "Low Variability Data:\n",
            "Data: [10, 11, 10, 12, 11]\n",
            "Mean: 10.8\n",
            "Standard Deviation: 0.7483314773547883\n",
            "\n",
            "High Variability Data:\n",
            "Data: [1, 10, 20, 30, 40]\n",
            "Mean: 20.2\n",
            "Standard Deviation: 13.862178760930766\n"
          ]
        }
      ]
    },
    {
      "cell_type": "markdown",
      "source": [
        "11.What are some real-world problems where missing data might affect results? Give 2 examples\n",
        "answer: missing data might affect: Medical Research: In clinical trials, missing data from participants who drop out can bias results, leading to overestimation of a drug's effectiveness and potentially harmful treatment recommendations.\n",
        "Customer Satisfaction Surveys: If only satisfied customers respond to a survey, it skews the results, causing businesses to make misguided decisions that could harm customer retention and brand reputation.\n",
        "In both cases, missing data can lead to flawed conclusions and poor decision-making."
      ],
      "metadata": {
        "id": "kRT0Gwv8JSIc"
      }
    }
  ]
}